{
 "cells": [
  {
   "cell_type": "markdown",
   "metadata": {},
   "source": [
    "\n"
   ]
  },
  {
   "cell_type": "code",
   "execution_count": 1,
   "metadata": {},
   "outputs": [],
   "source": [
    "import pandas as pd\n",
    "import matplotlib.pyplot as plt\n",
    "import numpy as np\n",
    "import seaborn as sns"
   ]
  },
  {
   "cell_type": "markdown",
   "metadata": {},
   "source": [
    "## Part 1\n",
    "\n",
    "Suppose that you are the administrator of a university department and you want to determine each applicant’s chance of admission based on their results on two exams. You have historical data from previous applicants that you can use as a training set for logistic regression. For each training example, you have the applicant’s scores on two exams and the admissions decision. Your task is to build a classification model that estimates an applicant’s probability of admission based the scores from those two exams. The data is located at:\n",
    "http://facweb1.redlands.edu/fac/Tamara_Veenstra/ML/admissions.csv\n",
    "\n",
    "### Question 1: \n",
    "\n",
    "Create a scatterplot for the data, so that admitted students and non-admitted students are plotted with a different symbol and different color with Test 1 on the $x$-axis and Test 2 on the $y$-axis. Does this data look appropriate for our Logistic Regression technique?\n",
    "\n",
    "### Question 2: \n",
    "\n",
    "Perform a logistic regression on the data. Compute the decision boundary for the Logistic Regression and add the decision boundary to your scatterplot.\n",
    "\n",
    "### Question 3: \n",
    "\n",
    "Report on the training accuracy of your Logistic Regression by computing the percentage of examples it got correct. "
   ]
  },
  {
   "cell_type": "code",
   "execution_count": 2,
   "metadata": {},
   "outputs": [
    {
     "data": {
      "text/html": [
       "<div>\n",
       "<style scoped>\n",
       "    .dataframe tbody tr th:only-of-type {\n",
       "        vertical-align: middle;\n",
       "    }\n",
       "\n",
       "    .dataframe tbody tr th {\n",
       "        vertical-align: top;\n",
       "    }\n",
       "\n",
       "    .dataframe thead th {\n",
       "        text-align: right;\n",
       "    }\n",
       "</style>\n",
       "<table border=\"1\" class=\"dataframe\">\n",
       "  <thead>\n",
       "    <tr style=\"text-align: right;\">\n",
       "      <th></th>\n",
       "      <th>Test 1</th>\n",
       "      <th>Test 2</th>\n",
       "      <th>Status</th>\n",
       "    </tr>\n",
       "  </thead>\n",
       "  <tbody>\n",
       "    <tr>\n",
       "      <td>0</td>\n",
       "      <td>34.623660</td>\n",
       "      <td>78.024693</td>\n",
       "      <td>not admitted</td>\n",
       "    </tr>\n",
       "    <tr>\n",
       "      <td>1</td>\n",
       "      <td>30.286711</td>\n",
       "      <td>43.894998</td>\n",
       "      <td>not admitted</td>\n",
       "    </tr>\n",
       "    <tr>\n",
       "      <td>2</td>\n",
       "      <td>35.847409</td>\n",
       "      <td>72.902198</td>\n",
       "      <td>not admitted</td>\n",
       "    </tr>\n",
       "    <tr>\n",
       "      <td>3</td>\n",
       "      <td>60.182599</td>\n",
       "      <td>86.308552</td>\n",
       "      <td>admitted</td>\n",
       "    </tr>\n",
       "    <tr>\n",
       "      <td>4</td>\n",
       "      <td>79.032736</td>\n",
       "      <td>75.344376</td>\n",
       "      <td>admitted</td>\n",
       "    </tr>\n",
       "  </tbody>\n",
       "</table>\n",
       "</div>"
      ],
      "text/plain": [
       "      Test 1     Test 2        Status\n",
       "0  34.623660  78.024693  not admitted\n",
       "1  30.286711  43.894998  not admitted\n",
       "2  35.847409  72.902198  not admitted\n",
       "3  60.182599  86.308552      admitted\n",
       "4  79.032736  75.344376      admitted"
      ]
     },
     "execution_count": 2,
     "metadata": {},
     "output_type": "execute_result"
    }
   ],
   "source": [
    "#Read the url and add the data to a data frame\n",
    "URL =  'http://facweb1.redlands.edu/fac/Tamara_Veenstra/ML/admissions.csv'\n",
    "df = pd.read_csv(URL)\n",
    "df.head()"
   ]
  },
  {
   "cell_type": "code",
   "execution_count": 3,
   "metadata": {},
   "outputs": [
    {
     "data": {
      "text/html": [
       "<div>\n",
       "<style scoped>\n",
       "    .dataframe tbody tr th:only-of-type {\n",
       "        vertical-align: middle;\n",
       "    }\n",
       "\n",
       "    .dataframe tbody tr th {\n",
       "        vertical-align: top;\n",
       "    }\n",
       "\n",
       "    .dataframe thead th {\n",
       "        text-align: right;\n",
       "    }\n",
       "</style>\n",
       "<table border=\"1\" class=\"dataframe\">\n",
       "  <thead>\n",
       "    <tr style=\"text-align: right;\">\n",
       "      <th></th>\n",
       "      <th>Test 1</th>\n",
       "      <th>Test 2</th>\n",
       "      <th>Status_admitted</th>\n",
       "      <th>Status_not admitted</th>\n",
       "    </tr>\n",
       "  </thead>\n",
       "  <tbody>\n",
       "    <tr>\n",
       "      <td>0</td>\n",
       "      <td>34.623660</td>\n",
       "      <td>78.024693</td>\n",
       "      <td>0</td>\n",
       "      <td>1</td>\n",
       "    </tr>\n",
       "    <tr>\n",
       "      <td>1</td>\n",
       "      <td>30.286711</td>\n",
       "      <td>43.894998</td>\n",
       "      <td>0</td>\n",
       "      <td>1</td>\n",
       "    </tr>\n",
       "    <tr>\n",
       "      <td>2</td>\n",
       "      <td>35.847409</td>\n",
       "      <td>72.902198</td>\n",
       "      <td>0</td>\n",
       "      <td>1</td>\n",
       "    </tr>\n",
       "    <tr>\n",
       "      <td>3</td>\n",
       "      <td>60.182599</td>\n",
       "      <td>86.308552</td>\n",
       "      <td>1</td>\n",
       "      <td>0</td>\n",
       "    </tr>\n",
       "    <tr>\n",
       "      <td>4</td>\n",
       "      <td>79.032736</td>\n",
       "      <td>75.344376</td>\n",
       "      <td>1</td>\n",
       "      <td>0</td>\n",
       "    </tr>\n",
       "  </tbody>\n",
       "</table>\n",
       "</div>"
      ],
      "text/plain": [
       "      Test 1     Test 2  Status_admitted  Status_not admitted\n",
       "0  34.623660  78.024693                0                    1\n",
       "1  30.286711  43.894998                0                    1\n",
       "2  35.847409  72.902198                0                    1\n",
       "3  60.182599  86.308552                1                    0\n",
       "4  79.032736  75.344376                1                    0"
      ]
     },
     "execution_count": 3,
     "metadata": {},
     "output_type": "execute_result"
    }
   ],
   "source": [
    "#Test get dummies\n",
    "pd.get_dummies(df,prefix=['Status']).head()"
   ]
  },
  {
   "cell_type": "code",
   "execution_count": 4,
   "metadata": {},
   "outputs": [
    {
     "name": "stdout",
     "output_type": "stream",
     "text": [
      "(100, 2) (100,)\n"
     ]
    },
    {
     "data": {
      "text/plain": [
       "0    0\n",
       "1    0\n",
       "2    0\n",
       "3    1\n",
       "4    1\n",
       "Name: Status_admitted, dtype: uint8"
      ]
     },
     "execution_count": 4,
     "metadata": {},
     "output_type": "execute_result"
    }
   ],
   "source": [
    "x = df[['Test 1', 'Test 2']].to_numpy() #Creats an array with test 1 data in column 0 and test 2 data in column 1\n",
    "y = pd.get_dummies(df,prefix=['Status'])['Status_admitted'] #Takes data for admitted status, where 1 is admitted\n",
    "print(x.shape, y.shape)\n",
    "y.head()"
   ]
  },
  {
   "cell_type": "code",
   "execution_count": 5,
   "metadata": {},
   "outputs": [
    {
     "data": {
      "image/png": "[encoded data removed]",
      "text/plain": [
       "<Figure size 576x576 with 1 Axes>"
      ]
     },
     "metadata": {
      "needs_background": "light"
     },
     "output_type": "display_data"
    }
   ],
   "source": [
    "plt.figure(figsize=(8,8))\n",
    "\n",
    "plt.plot(x[y==0,0], x[y==0,1], \"rs\", label='Not Accepted') #If points in x have y==0, then the label is not accepted, getting a red square\n",
    "plt.plot(x[y==1,0], x[y==1,1], \"g^\", label = 'Accepted') #Green square for accepted\n",
    "\n",
    "\n",
    "plt.xlabel('Test 1 Score')\n",
    "plt.ylabel('Test 2 Score')\n",
    "plt.legend()\n",
    "\n",
    "plt.show()"
   ]
  },
  {
   "cell_type": "code",
   "execution_count": 6,
   "metadata": {},
   "outputs": [
    {
     "name": "stdout",
     "output_type": "stream",
     "text": [
      "This does seem to have appropriate to logistic regression with the curve between red squares and green triangles.\n"
     ]
    }
   ],
   "source": [
    "print('This does seem to have appropriate to logistic regression with the curve between red squares and green triangles.')\n"
   ]
  },
  {
   "cell_type": "code",
   "execution_count": null,
   "metadata": {
    "scrolled": true
   },
   "outputs": [],
   "source": []
  },
  {
   "cell_type": "code",
   "execution_count": 7,
   "metadata": {
    "scrolled": false
   },
   "outputs": [
    {
     "name": "stdout",
     "output_type": "stream",
     "text": [
      "[-25.05219314312743, 0.20535491218577967, 0.20058380395530132]\n"
     ]
    }
   ],
   "source": [
    "from sklearn.linear_model import LogisticRegression \n",
    "log_reg = LogisticRegression(solver='lbfgs') #Uses the Limited-memory Broyden–Fletcher–Goldfarb–Shanno for linear regression\n",
    "log_reg.fit(x,y) #Applies the regression to x and y\n",
    "theta = [log_reg.intercept_[0], log_reg.coef_[:,0][0], log_reg.coef_[:,1][0]] #Set up my theta for my decision boundary\n",
    "print(theta)"
   ]
  },
  {
   "cell_type": "code",
   "execution_count": null,
   "metadata": {},
   "outputs": [],
   "source": []
  },
  {
   "cell_type": "code",
   "execution_count": 8,
   "metadata": {
    "scrolled": true
   },
   "outputs": [
    {
     "data": {
      "image/png": "[encoded data removed]",
      "text/plain": [
       "<Figure size 432x288 with 1 Axes>"
      ]
     },
     "metadata": {
      "needs_background": "light"
     },
     "output_type": "display_data"
    }
   ],
   "source": [
    "x_new = np.linspace(20, 100, 1000).reshape(-1, 1) #Create a bunch of x values between 20 and 100\n",
    "y_new = (-(theta[1]*x_new) - theta[0])/theta[2] #Formula: y = (coef1*x - intercept) / coef2\n",
    "\n",
    "\n",
    "plt.plot(x_new, y_new, \"b--\") #CreatesDecision boundary line\n",
    "\n",
    "\n",
    "#Replot points from earliear\n",
    "plt.plot(x[y==0,0], x[y==0,1], \"rs\", label='Not Accepted')\n",
    "plt.plot(x[y==1,0], x[y==1,1], \"g^\", label = 'Accepted')\n",
    "plt.xlabel('Test 1')\n",
    "plt.ylabel('Test 2')\n",
    "plt.legend()\n",
    "plt.show()\n"
   ]
  },
  {
   "cell_type": "code",
   "execution_count": 9,
   "metadata": {},
   "outputs": [
    {
     "name": "stdout",
     "output_type": "stream",
     "text": [
      "Percent Accurate from Logistic Regression:  89.0 %\n",
      "Percent Inaccurate from Logistic Regression:  11.0 %\n"
     ]
    }
   ],
   "source": [
    "y_pred=log_reg.predict(x) #Creates prediction values based on logistic regression for x\n",
    "score=(y_pred==y) #Calculates if prediction is equal to the actual data for classification\n",
    "score.value_counts()\n",
    "PercentFailed = 0\n",
    "PercentPassed = 0\n",
    "#Counts how many were accurate or inaccuarte\n",
    "for i in range(100):\n",
    "    if(score[i] == True):\n",
    "        PercentPassed = PercentPassed + 1\n",
    "    else:\n",
    "        PercentFailed = PercentFailed + 1\n",
    "        \n",
    "#Sets up percentages\n",
    "print('Percent Accurate from Logistic Regression: ',PercentPassed*100/100,'%')\n",
    "print('Percent Inaccurate from Logistic Regression: ',PercentFailed*100/100,'%')"
   ]
  },
  {
   "cell_type": "markdown",
   "metadata": {},
   "source": [
    "## Part 2\n",
    "Suppose you are the product manager of the factory and you have the test results for some microchips on two different tests. From these two tests, you would like to determine whether the microchips are likely to be working or faulty. To help you make the decision, you have a dataset of test results on past microchips, from which you can build a logistic regression model. The data is located at http://facweb1.redlands.edu/fac/Tamara_Veenstra/ML/chip_test.csv\n",
    "\n",
    "### Question 4: \n",
    "\n",
    "Create a scatterplot for the data, so that admitted chips and rejected chips are plotted with a different symbol and different color with Test1 on the $x$-axis and Test2 on the $y$-axis. Does this data look appropriate for our Logistic Regression technique?\n",
    "\n",
    "### Question 5: \n",
    "\n",
    "Perform a logistic regression on the data. Compute the decision boundary for the Logistic Regression and add the decision boundary to your scatterplot.\n",
    "\n",
    "### Question 6: \n",
    "\n",
    "Report on the training accuracy of your Logistic Regression by computing the percentage of examples it got correct. Explain why this did so poorly."
   ]
  },
  {
   "cell_type": "code",
   "execution_count": 10,
   "metadata": {
    "scrolled": true
   },
   "outputs": [
    {
     "data": {
      "text/html": [
       "<div>\n",
       "<style scoped>\n",
       "    .dataframe tbody tr th:only-of-type {\n",
       "        vertical-align: middle;\n",
       "    }\n",
       "\n",
       "    .dataframe tbody tr th {\n",
       "        vertical-align: top;\n",
       "    }\n",
       "\n",
       "    .dataframe thead th {\n",
       "        text-align: right;\n",
       "    }\n",
       "</style>\n",
       "<table border=\"1\" class=\"dataframe\">\n",
       "  <thead>\n",
       "    <tr style=\"text-align: right;\">\n",
       "      <th></th>\n",
       "      <th>Test 1</th>\n",
       "      <th>Test 2</th>\n",
       "      <th>Status</th>\n",
       "    </tr>\n",
       "  </thead>\n",
       "  <tbody>\n",
       "    <tr>\n",
       "      <td>0</td>\n",
       "      <td>0.051267</td>\n",
       "      <td>0.69956</td>\n",
       "      <td>working</td>\n",
       "    </tr>\n",
       "    <tr>\n",
       "      <td>1</td>\n",
       "      <td>-0.092742</td>\n",
       "      <td>0.68494</td>\n",
       "      <td>working</td>\n",
       "    </tr>\n",
       "    <tr>\n",
       "      <td>2</td>\n",
       "      <td>-0.213710</td>\n",
       "      <td>0.69225</td>\n",
       "      <td>working</td>\n",
       "    </tr>\n",
       "    <tr>\n",
       "      <td>3</td>\n",
       "      <td>-0.375000</td>\n",
       "      <td>0.50219</td>\n",
       "      <td>working</td>\n",
       "    </tr>\n",
       "    <tr>\n",
       "      <td>4</td>\n",
       "      <td>-0.513250</td>\n",
       "      <td>0.46564</td>\n",
       "      <td>working</td>\n",
       "    </tr>\n",
       "  </tbody>\n",
       "</table>\n",
       "</div>"
      ],
      "text/plain": [
       "     Test 1   Test 2   Status\n",
       "0  0.051267  0.69956  working\n",
       "1 -0.092742  0.68494  working\n",
       "2 -0.213710  0.69225  working\n",
       "3 -0.375000  0.50219  working\n",
       "4 -0.513250  0.46564  working"
      ]
     },
     "execution_count": 10,
     "metadata": {},
     "output_type": "execute_result"
    }
   ],
   "source": [
    "#Read url and create a dataframe\n",
    "URL2 =  'http://facweb1.redlands.edu/fac/Tamara_Veenstra/ML/chip_test.csv'\n",
    "dt = pd.read_csv(URL2)\n",
    "dt.head()"
   ]
  },
  {
   "cell_type": "code",
   "execution_count": 11,
   "metadata": {},
   "outputs": [
    {
     "data": {
      "text/html": [
       "<div>\n",
       "<style scoped>\n",
       "    .dataframe tbody tr th:only-of-type {\n",
       "        vertical-align: middle;\n",
       "    }\n",
       "\n",
       "    .dataframe tbody tr th {\n",
       "        vertical-align: top;\n",
       "    }\n",
       "\n",
       "    .dataframe thead th {\n",
       "        text-align: right;\n",
       "    }\n",
       "</style>\n",
       "<table border=\"1\" class=\"dataframe\">\n",
       "  <thead>\n",
       "    <tr style=\"text-align: right;\">\n",
       "      <th></th>\n",
       "      <th>Test 1</th>\n",
       "      <th>Test 2</th>\n",
       "      <th>Status_faulty</th>\n",
       "      <th>Status_working</th>\n",
       "    </tr>\n",
       "  </thead>\n",
       "  <tbody>\n",
       "    <tr>\n",
       "      <td>0</td>\n",
       "      <td>0.051267</td>\n",
       "      <td>0.69956</td>\n",
       "      <td>0</td>\n",
       "      <td>1</td>\n",
       "    </tr>\n",
       "    <tr>\n",
       "      <td>1</td>\n",
       "      <td>-0.092742</td>\n",
       "      <td>0.68494</td>\n",
       "      <td>0</td>\n",
       "      <td>1</td>\n",
       "    </tr>\n",
       "    <tr>\n",
       "      <td>2</td>\n",
       "      <td>-0.213710</td>\n",
       "      <td>0.69225</td>\n",
       "      <td>0</td>\n",
       "      <td>1</td>\n",
       "    </tr>\n",
       "    <tr>\n",
       "      <td>3</td>\n",
       "      <td>-0.375000</td>\n",
       "      <td>0.50219</td>\n",
       "      <td>0</td>\n",
       "      <td>1</td>\n",
       "    </tr>\n",
       "    <tr>\n",
       "      <td>4</td>\n",
       "      <td>-0.513250</td>\n",
       "      <td>0.46564</td>\n",
       "      <td>0</td>\n",
       "      <td>1</td>\n",
       "    </tr>\n",
       "  </tbody>\n",
       "</table>\n",
       "</div>"
      ],
      "text/plain": [
       "     Test 1   Test 2  Status_faulty  Status_working\n",
       "0  0.051267  0.69956              0               1\n",
       "1 -0.092742  0.68494              0               1\n",
       "2 -0.213710  0.69225              0               1\n",
       "3 -0.375000  0.50219              0               1\n",
       "4 -0.513250  0.46564              0               1"
      ]
     },
     "execution_count": 11,
     "metadata": {},
     "output_type": "execute_result"
    }
   ],
   "source": [
    "pd.get_dummies(dt,prefix=['Status']).head() #Test dummies"
   ]
  },
  {
   "cell_type": "code",
   "execution_count": 12,
   "metadata": {},
   "outputs": [
    {
     "name": "stdout",
     "output_type": "stream",
     "text": [
      "(118, 2) (118,)\n"
     ]
    },
    {
     "data": {
      "text/plain": [
       "0    1\n",
       "1    1\n",
       "2    1\n",
       "3    1\n",
       "4    1\n",
       "Name: Status_working, dtype: uint8"
      ]
     },
     "execution_count": 12,
     "metadata": {},
     "output_type": "execute_result"
    }
   ],
   "source": [
    "x2 = dt[['Test 1', 'Test 2']].to_numpy() #test 1 and test 2 values in an array\n",
    "y2 = pd.get_dummies(dt,prefix=['Status'])['Status_working'] #Values from 0 to 1, for whether the tests showed if product is working\n",
    "print(x2.shape, y2.shape)\n",
    "y2.head()"
   ]
  },
  {
   "cell_type": "code",
   "execution_count": 13,
   "metadata": {},
   "outputs": [
    {
     "data": {
      "image/png": "[encoded data removed]",
      "text/plain": [
       "<Figure size 576x576 with 1 Axes>"
      ]
     },
     "metadata": {
      "needs_background": "light"
     },
     "output_type": "display_data"
    },
    {
     "name": "stdout",
     "output_type": "stream",
     "text": [
      "There definetly is a clear distinction between working and faulty products, but is in more of a circle shape, with\n",
      "working in the circle and faulty outside. Im not sure if logistic regression will work for this kind of plot, but we will see\n"
     ]
    }
   ],
   "source": [
    "plt.figure(figsize=(8,8))\n",
    "\n",
    "#Sets faulty as red squares, and working as green arrows\n",
    "plt.plot(x2[y2==0,0], x2[y2==0,1], \"rs\", label= 'Faulty')\n",
    "plt.plot(x2[y2==1,0], x2[y2==1,1], \"g^\", label = 'Working')\n",
    "\n",
    "plt.xlabel('Test 1')\n",
    "plt.ylabel('Test 2')\n",
    "plt.legend()\n",
    "\n",
    "plt.show()\n",
    "print('There definetly is a clear distinction between working and faulty products, but is in more of a circle shape, with')\n",
    "print('working in the circle and faulty outside. Im not sure if logistic regression will work for this kind of plot, but we will see')"
   ]
  },
  {
   "cell_type": "code",
   "execution_count": 14,
   "metadata": {},
   "outputs": [
    {
     "name": "stdout",
     "output_type": "stream",
     "text": [
      "[-0.017407196339799556, -0.26541433258530106, -0.011621762609298477]\n"
     ]
    }
   ],
   "source": [
    "#Same solver as before with logistic regression\n",
    "lm = LogisticRegression(solver='lbfgs')\n",
    "lm.fit(x2,y2)\n",
    "theta2 = [lm.intercept_[0], lm.coef_[:,0][0], lm.coef_[:,1][0]] #Creates theta for decision boundary\n",
    "print(theta2)"
   ]
  },
  {
   "cell_type": "code",
   "execution_count": 15,
   "metadata": {
    "scrolled": true
   },
   "outputs": [
    {
     "data": {
      "image/png": "[encoded data removed]",
      "text/plain": [
       "<Figure size 432x288 with 1 Axes>"
      ]
     },
     "metadata": {
      "needs_background": "light"
     },
     "output_type": "display_data"
    }
   ],
   "source": [
    "x_new2 = np.linspace(-0.12, -0.03, 1000).reshape(-1, 1)\n",
    "y_new2 = (-(theta2[1]*x_new2) - theta2[0])/theta2[2] \n",
    "\n",
    "\n",
    "plt.plot(x_new2, y_new2, \"b-\") \n",
    "\n",
    "\n",
    "\n",
    "plt.plot(x2[y2==0,0], x2[y2==0,1], \"rs\", label='Faulty')\n",
    "plt.plot(x2[y2==1,0], x2[y2==1,1], \"g^\", label = 'Working')\n",
    "plt.xlabel('Test 1')\n",
    "plt.ylabel('Test 2')\n",
    "plt.legend()\n",
    "plt.show()"
   ]
  },
  {
   "cell_type": "code",
   "execution_count": 16,
   "metadata": {},
   "outputs": [
    {
     "name": "stdout",
     "output_type": "stream",
     "text": [
      "Percent Accurate from Logistic Regression:  54.23728813559322 %\n",
      "Percent Inaccurate from Logistic Regression:  45.76271186440678 %\n"
     ]
    }
   ],
   "source": [
    "y_pred2=lm.predict(x2)\n",
    "score2=(y_pred2==y2)\n",
    "score2.value_counts()\n",
    "PercentFailed2 = 0\n",
    "PercentPassed2 = 0\n",
    "for i in range(118):\n",
    "    if(score2[i] == True):\n",
    "        PercentPassed2 = PercentPassed2 + 1\n",
    "    else:\n",
    "        PercentFailed2 = PercentFailed2 + 1\n",
    "        \n",
    "print('Percent Accurate from Logistic Regression: ',PercentPassed2*100/118,'%')\n",
    "print('Percent Inaccurate from Logistic Regression: ',PercentFailed2*100/118,'%')"
   ]
  }
 ],
 "metadata": {
  "kernelspec": {
   "display_name": "Python 3",
   "language": "python",
   "name": "python3"
  },
  "language_info": {
   "codemirror_mode": {
    "name": "ipython",
    "version": 3
   },
   "file_extension": ".py",
   "mimetype": "text/x-python",
   "name": "python",
   "nbconvert_exporter": "python",
   "pygments_lexer": "ipython3",
   "version": "3.7.4"
  }
 },
 "nbformat": 4,
 "nbformat_minor": 2
}
