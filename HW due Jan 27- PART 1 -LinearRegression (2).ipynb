{
 "cells": [
  {
   "cell_type": "markdown",
   "metadata": {},
   "source": [
    "# Assignment due Jan 22 - Linear Regression\n",
    "\n",
    "The goal of this assignment is to explore a data set and then preform linear regression on that data. Here are the parts\n",
    "\n",
    "- Q1 Warm Up\n",
    "- Q2 Import the Data (population vs. profit) and Create a Scatter Plot\n",
    "- Q3 Find information about your data: Max of each feature, Min of each feature, number of samples. Then create two numpy column vectors. One that contains population the other profit.\n",
    "- Q4 Write a function that calculates the mean squared error cost function\n",
    "- Q5 Create a surface plot the graphs the cost function for a range of values\n",
    "- Q6 Using the Normal Equation to minimize the cost function, find the line of best fit\n",
    "- Q7 Make a plot that shows the original scatter plot of the data and the line that you just created\n",
    "- Q8 Write a function that uses your linear regression formula to make predictions. Given the population of the city predict what the company profits are.\n",
    "\n",
    "Data for this assignment originally comes from: https://www.coursera.org/learn/machine-learning\n"
   ]
  },
  {
   "cell_type": "code",
   "execution_count": 1,
   "metadata": {},
   "outputs": [],
   "source": [
    "import numpy as np\n",
    "import pandas as pd\n",
    "import matplotlib.pyplot as plt"
   ]
  },
  {
   "cell_type": "markdown",
   "metadata": {},
   "source": [
    "## Question 1 - Warm Up\n",
    "\n",
    "- Write code that creates a 5x5 identiy matrix using numpy and then changes the entries along the diagonal to be the numbers 1-5.\n",
    "- Create a python function that reads in an existing dataframe, a name, birth month, and favorite animal and appends this to the existing dataframe.\n",
    "- Use your function to create a dataframe that contains 5 entries"
   ]
  },
  {
   "cell_type": "code",
   "execution_count": 2,
   "metadata": {},
   "outputs": [
    {
     "name": "stdout",
     "output_type": "stream",
     "text": [
      "[[1. 0. 0. 0. 0.]\n",
      " [0. 2. 0. 0. 0.]\n",
      " [0. 0. 3. 0. 0.]\n",
      " [0. 0. 0. 4. 0.]\n",
      " [0. 0. 0. 0. 5.]]\n"
     ]
    }
   ],
   "source": [
    "# Matrix with 1-5 along diagonal\n",
    "Identity = np.identity(5) #Sets up an identity matrix, with ones on the diagonal\n",
    "\n",
    "for i in range(5): #for numbers from 0 to 4\n",
    "    \n",
    "    if(Identity[i,i]==1): #if row#=coulm# equal 1\n",
    "        \n",
    "        Identity[i,i] = i+1 #Add it in increments\n",
    "        \n",
    "print(Identity)"
   ]
  },
  {
   "cell_type": "code",
   "execution_count": 3,
   "metadata": {},
   "outputs": [],
   "source": [
    "# Function to append dataframe\n",
    "mydata = pd.DataFrame([{'Name':'Joanna','Month':'Feb','Animal':'Otter'},{'Name':'Tamara','Month':'Nov','Animal':'Cat'}])\n",
    "\n",
    "def cojoining_DataFrames(X,Y): #Function with two data frames\n",
    "    \n",
    "    Y = Y.append(X) #Takes Y dataframe and adds on the X data fram\n",
    "    \n",
    "    return Y"
   ]
  },
  {
   "cell_type": "code",
   "execution_count": 4,
   "metadata": {
    "scrolled": true
   },
   "outputs": [
    {
     "name": "stdout",
     "output_type": "stream",
     "text": [
      "      Name Month     Animal\n",
      "0    Peggy   Oct  Dragonfly\n",
      "0  Trinity   Day       Duck\n",
      "0     Noah   Dec    Giraffe\n",
      "0   Joanna   Feb      Otter\n",
      "1   Tamara   Nov        Cat\n"
     ]
    }
   ],
   "source": [
    "# Use your function\n",
    "Experiment = pd.DataFrame([{'Name':'Noah', 'Month':'Dec', 'Animal':'Giraffe'}])\n",
    "Experiment2 = pd.DataFrame([{'Name':'Trinity', 'Month':'Day', 'Animal':'Duck'}])\n",
    "Experiment3 = pd.DataFrame([{'Name':'Peggy', 'Month':'Oct', 'Animal':'Dragonfly'}])\n",
    "\n",
    "mydata2 = cojoining_DataFrames(mydata,Experiment)\n",
    "mydata3 = cojoining_DataFrames(mydata2,Experiment2)\n",
    "mydata4 = cojoining_DataFrames(mydata3,Experiment3)\n",
    "print(mydata4)\n"
   ]
  },
  {
   "cell_type": "code",
   "execution_count": null,
   "metadata": {},
   "outputs": [],
   "source": []
  },
  {
   "cell_type": "code",
   "execution_count": null,
   "metadata": {},
   "outputs": [],
   "source": []
  },
  {
   "cell_type": "markdown",
   "metadata": {},
   "source": [
    "## Question 2 - Import and Explore the Data\n",
    "\n",
    "The data for this assignment can be found at\n",
    "\n",
    "URL = http://facweb1.redlands.edu/fac/joanna_bieri/machinelearning/ex1data1.txt\n",
    "\n",
    "this data is in csv format. It contains data that matches the population of a city (units = tens of thousands) with the profit that a company makes (units = tens of thousands)."
   ]
  },
  {
   "cell_type": "code",
   "execution_count": 5,
   "metadata": {},
   "outputs": [
    {
     "name": "stdout",
     "output_type": "stream",
     "text": [
      "    Population    Profit\n",
      "0       6.1101  17.59200\n",
      "1       5.5277   9.13020\n",
      "2       8.5186  13.66200\n",
      "3       7.0032  11.85400\n",
      "4       5.8598   6.82330\n",
      "..         ...       ...\n",
      "92      5.8707   7.20290\n",
      "93      5.3054   1.98690\n",
      "94      8.2934   0.14454\n",
      "95     13.3940   9.05510\n",
      "96      5.4369   0.61705\n",
      "\n",
      "[97 rows x 2 columns]\n"
     ]
    }
   ],
   "source": [
    "# Use Pandas to read in the data, label the first column \"Population\" and the second column \"Profit\"\n",
    "# Display that first few rows of the data.\n",
    "URL = 'http://facweb1.redlands.edu/fac/joanna_bieri/machinelearning/ex1data1.txt'\n",
    "\n",
    "df=pd.read_csv(URL, names = ['Population', 'Profit']) #Reads info from the URL and name the first coulm Population and the second profi\n",
    "\n",
    "print(df)\n"
   ]
  },
  {
   "cell_type": "code",
   "execution_count": 6,
   "metadata": {},
   "outputs": [
    {
     "data": {
      "image/png": "[encoded data removed]",
      "text/plain": [
       "<Figure size 432x288 with 1 Axes>"
      ]
     },
     "metadata": {
      "needs_background": "light"
     },
     "output_type": "display_data"
    }
   ],
   "source": [
    "# Create a Scatter Plot with labeled axis that plots Population (x) vs Profit (y). Create a fun title for this plot.\n",
    "x = df['Population'] #Sets x to values of population column\n",
    "\n",
    "y = df['Profit'] #Sets y to values of profit column\n",
    "\n",
    "plt.plot(x, y, 'o') #Sets x as x-axis, y as y-axis, and uses points to plot data\n",
    "\n",
    "plt.title('Population vs.Profit: It is time for a DEATH BATTLE!!!')\n",
    "plt.show()"
   ]
  },
  {
   "cell_type": "markdown",
   "metadata": {},
   "source": [
    "Does it appear at least plausable that this relationship can be described using linear regression (a straight line)?"
   ]
  },
  {
   "cell_type": "code",
   "execution_count": 7,
   "metadata": {},
   "outputs": [
    {
     "name": "stdout",
     "output_type": "stream",
     "text": [
      "(97, 1) (97, 1)\n",
      "[[ 6.1101]\n",
      " [ 5.5277]\n",
      " [ 8.5186]\n",
      " [ 7.0032]\n",
      " [ 5.8598]\n",
      " [ 8.3829]\n",
      " [ 7.4764]\n",
      " [ 8.5781]\n",
      " [ 6.4862]\n",
      " [ 5.0546]\n",
      " [ 5.7107]\n",
      " [14.164 ]\n",
      " [ 5.734 ]\n",
      " [ 8.4084]\n",
      " [ 5.6407]\n",
      " [ 5.3794]\n",
      " [ 6.3654]\n",
      " [ 5.1301]\n",
      " [ 6.4296]\n",
      " [ 7.0708]\n",
      " [ 6.1891]\n",
      " [20.27  ]\n",
      " [ 5.4901]\n",
      " [ 6.3261]\n",
      " [ 5.5649]\n",
      " [18.945 ]\n",
      " [12.828 ]\n",
      " [10.957 ]\n",
      " [13.176 ]\n",
      " [22.203 ]\n",
      " [ 5.2524]\n",
      " [ 6.5894]\n",
      " [ 9.2482]\n",
      " [ 5.8918]\n",
      " [ 8.2111]\n",
      " [ 7.9334]\n",
      " [ 8.0959]\n",
      " [ 5.6063]\n",
      " [12.836 ]\n",
      " [ 6.3534]\n",
      " [ 5.4069]\n",
      " [ 6.8825]\n",
      " [11.708 ]\n",
      " [ 5.7737]\n",
      " [ 7.8247]\n",
      " [ 7.0931]\n",
      " [ 5.0702]\n",
      " [ 5.8014]\n",
      " [11.7   ]\n",
      " [ 5.5416]\n",
      " [ 7.5402]\n",
      " [ 5.3077]\n",
      " [ 7.4239]\n",
      " [ 7.6031]\n",
      " [ 6.3328]\n",
      " [ 6.3589]\n",
      " [ 6.2742]\n",
      " [ 5.6397]\n",
      " [ 9.3102]\n",
      " [ 9.4536]\n",
      " [ 8.8254]\n",
      " [ 5.1793]\n",
      " [21.279 ]\n",
      " [14.908 ]\n",
      " [18.959 ]\n",
      " [ 7.2182]\n",
      " [ 8.2951]\n",
      " [10.236 ]\n",
      " [ 5.4994]\n",
      " [20.341 ]\n",
      " [10.136 ]\n",
      " [ 7.3345]\n",
      " [ 6.0062]\n",
      " [ 7.2259]\n",
      " [ 5.0269]\n",
      " [ 6.5479]\n",
      " [ 7.5386]\n",
      " [ 5.0365]\n",
      " [10.274 ]\n",
      " [ 5.1077]\n",
      " [ 5.7292]\n",
      " [ 5.1884]\n",
      " [ 6.3557]\n",
      " [ 9.7687]\n",
      " [ 6.5159]\n",
      " [ 8.5172]\n",
      " [ 9.1802]\n",
      " [ 6.002 ]\n",
      " [ 5.5204]\n",
      " [ 5.0594]\n",
      " [ 5.7077]\n",
      " [ 7.6366]\n",
      " [ 5.8707]\n",
      " [ 5.3054]\n",
      " [ 8.2934]\n",
      " [13.394 ]\n",
      " [ 5.4369]] [[17.592  ]\n",
      " [ 9.1302 ]\n",
      " [13.662  ]\n",
      " [11.854  ]\n",
      " [ 6.8233 ]\n",
      " [11.886  ]\n",
      " [ 4.3483 ]\n",
      " [12.     ]\n",
      " [ 6.5987 ]\n",
      " [ 3.8166 ]\n",
      " [ 3.2522 ]\n",
      " [15.505  ]\n",
      " [ 3.1551 ]\n",
      " [ 7.2258 ]\n",
      " [ 0.71618]\n",
      " [ 3.5129 ]\n",
      " [ 5.3048 ]\n",
      " [ 0.56077]\n",
      " [ 3.6518 ]\n",
      " [ 5.3893 ]\n",
      " [ 3.1386 ]\n",
      " [21.767  ]\n",
      " [ 4.263  ]\n",
      " [ 5.1875 ]\n",
      " [ 3.0825 ]\n",
      " [22.638  ]\n",
      " [13.501  ]\n",
      " [ 7.0467 ]\n",
      " [14.692  ]\n",
      " [24.147  ]\n",
      " [-1.22   ]\n",
      " [ 5.9966 ]\n",
      " [12.134  ]\n",
      " [ 1.8495 ]\n",
      " [ 6.5426 ]\n",
      " [ 4.5623 ]\n",
      " [ 4.1164 ]\n",
      " [ 3.3928 ]\n",
      " [10.117  ]\n",
      " [ 5.4974 ]\n",
      " [ 0.55657]\n",
      " [ 3.9115 ]\n",
      " [ 5.3854 ]\n",
      " [ 2.4406 ]\n",
      " [ 6.7318 ]\n",
      " [ 1.0463 ]\n",
      " [ 5.1337 ]\n",
      " [ 1.844  ]\n",
      " [ 8.0043 ]\n",
      " [ 1.0179 ]\n",
      " [ 6.7504 ]\n",
      " [ 1.8396 ]\n",
      " [ 4.2885 ]\n",
      " [ 4.9981 ]\n",
      " [ 1.4233 ]\n",
      " [-1.4211 ]\n",
      " [ 2.4756 ]\n",
      " [ 4.6042 ]\n",
      " [ 3.9624 ]\n",
      " [ 5.4141 ]\n",
      " [ 5.1694 ]\n",
      " [-0.74279]\n",
      " [17.929  ]\n",
      " [12.054  ]\n",
      " [17.054  ]\n",
      " [ 4.8852 ]\n",
      " [ 5.7442 ]\n",
      " [ 7.7754 ]\n",
      " [ 1.0173 ]\n",
      " [20.992  ]\n",
      " [ 6.6799 ]\n",
      " [ 4.0259 ]\n",
      " [ 1.2784 ]\n",
      " [ 3.3411 ]\n",
      " [-2.6807 ]\n",
      " [ 0.29678]\n",
      " [ 3.8845 ]\n",
      " [ 5.7014 ]\n",
      " [ 6.7526 ]\n",
      " [ 2.0576 ]\n",
      " [ 0.47953]\n",
      " [ 0.20421]\n",
      " [ 0.67861]\n",
      " [ 7.5435 ]\n",
      " [ 5.3436 ]\n",
      " [ 4.2415 ]\n",
      " [ 6.7981 ]\n",
      " [ 0.92695]\n",
      " [ 0.152  ]\n",
      " [ 2.8214 ]\n",
      " [ 1.8451 ]\n",
      " [ 4.2959 ]\n",
      " [ 7.2029 ]\n",
      " [ 1.9869 ]\n",
      " [ 0.14454]\n",
      " [ 9.0551 ]\n",
      " [ 0.61705]]\n"
     ]
    }
   ],
   "source": [
    "# Prep your data for machine learning by creating two numpy column vectors\n",
    "# One should contain x=population the other y=profit\n",
    "x_numpy_conversion = x.to_numpy() #Converts x values to numpy as we will be using numpy operations\n",
    "\n",
    "y_numpy_conversion = y.to_numpy() #Converts y vales to numpy\n",
    "\n",
    "x_pop = x_numpy_conversion.reshape(x_numpy_conversion.size, 1) #Vectorizes the x conversion to a single column\n",
    "y_prof = y_numpy_conversion.reshape(y_numpy_conversion.size, 1) #Vectorizes the y conversion to a single column\n",
    "\n",
    "print(x_pop.shape, y_prof.shape)\n",
    "print(x_pop, y_prof)"
   ]
  },
  {
   "cell_type": "code",
   "execution_count": null,
   "metadata": {},
   "outputs": [],
   "source": []
  },
  {
   "cell_type": "code",
   "execution_count": 8,
   "metadata": {
    "scrolled": true
   },
   "outputs": [
    {
     "name": "stdout",
     "output_type": "stream",
     "text": [
      "(97, 1)\n",
      "[[ 1.      6.1101]\n",
      " [ 1.      5.5277]\n",
      " [ 1.      8.5186]\n",
      " [ 1.      7.0032]\n",
      " [ 1.      5.8598]\n",
      " [ 1.      8.3829]\n",
      " [ 1.      7.4764]\n",
      " [ 1.      8.5781]\n",
      " [ 1.      6.4862]\n",
      " [ 1.      5.0546]\n",
      " [ 1.      5.7107]\n",
      " [ 1.     14.164 ]\n",
      " [ 1.      5.734 ]\n",
      " [ 1.      8.4084]\n",
      " [ 1.      5.6407]\n",
      " [ 1.      5.3794]\n",
      " [ 1.      6.3654]\n",
      " [ 1.      5.1301]\n",
      " [ 1.      6.4296]\n",
      " [ 1.      7.0708]\n",
      " [ 1.      6.1891]\n",
      " [ 1.     20.27  ]\n",
      " [ 1.      5.4901]\n",
      " [ 1.      6.3261]\n",
      " [ 1.      5.5649]\n",
      " [ 1.     18.945 ]\n",
      " [ 1.     12.828 ]\n",
      " [ 1.     10.957 ]\n",
      " [ 1.     13.176 ]\n",
      " [ 1.     22.203 ]\n",
      " [ 1.      5.2524]\n",
      " [ 1.      6.5894]\n",
      " [ 1.      9.2482]\n",
      " [ 1.      5.8918]\n",
      " [ 1.      8.2111]\n",
      " [ 1.      7.9334]\n",
      " [ 1.      8.0959]\n",
      " [ 1.      5.6063]\n",
      " [ 1.     12.836 ]\n",
      " [ 1.      6.3534]\n",
      " [ 1.      5.4069]\n",
      " [ 1.      6.8825]\n",
      " [ 1.     11.708 ]\n",
      " [ 1.      5.7737]\n",
      " [ 1.      7.8247]\n",
      " [ 1.      7.0931]\n",
      " [ 1.      5.0702]\n",
      " [ 1.      5.8014]\n",
      " [ 1.     11.7   ]\n",
      " [ 1.      5.5416]\n",
      " [ 1.      7.5402]\n",
      " [ 1.      5.3077]\n",
      " [ 1.      7.4239]\n",
      " [ 1.      7.6031]\n",
      " [ 1.      6.3328]\n",
      " [ 1.      6.3589]\n",
      " [ 1.      6.2742]\n",
      " [ 1.      5.6397]\n",
      " [ 1.      9.3102]\n",
      " [ 1.      9.4536]\n",
      " [ 1.      8.8254]\n",
      " [ 1.      5.1793]\n",
      " [ 1.     21.279 ]\n",
      " [ 1.     14.908 ]\n",
      " [ 1.     18.959 ]\n",
      " [ 1.      7.2182]\n",
      " [ 1.      8.2951]\n",
      " [ 1.     10.236 ]\n",
      " [ 1.      5.4994]\n",
      " [ 1.     20.341 ]\n",
      " [ 1.     10.136 ]\n",
      " [ 1.      7.3345]\n",
      " [ 1.      6.0062]\n",
      " [ 1.      7.2259]\n",
      " [ 1.      5.0269]\n",
      " [ 1.      6.5479]\n",
      " [ 1.      7.5386]\n",
      " [ 1.      5.0365]\n",
      " [ 1.     10.274 ]\n",
      " [ 1.      5.1077]\n",
      " [ 1.      5.7292]\n",
      " [ 1.      5.1884]\n",
      " [ 1.      6.3557]\n",
      " [ 1.      9.7687]\n",
      " [ 1.      6.5159]\n",
      " [ 1.      8.5172]\n",
      " [ 1.      9.1802]\n",
      " [ 1.      6.002 ]\n",
      " [ 1.      5.5204]\n",
      " [ 1.      5.0594]\n",
      " [ 1.      5.7077]\n",
      " [ 1.      7.6366]\n",
      " [ 1.      5.8707]\n",
      " [ 1.      5.3054]\n",
      " [ 1.      8.2934]\n",
      " [ 1.     13.394 ]\n",
      " [ 1.      5.4369]]\n"
     ]
    }
   ],
   "source": [
    "# Append your x data to add a column of ones\n",
    "print(x_pop.shape)\n",
    "Ones = np.ones((97,1), dtype=int) #Creats a single column of 97 ones\n",
    "\n",
    "x_pop_2 = np.append(Ones, x_pop, axis = 1) #Adds the x vector to the ones vector\n",
    "print(x_pop_2)\n"
   ]
  },
  {
   "cell_type": "code",
   "execution_count": 9,
   "metadata": {
    "scrolled": true
   },
   "outputs": [
    {
     "name": "stdout",
     "output_type": "stream",
     "text": [
      "(97, 2)\n",
      "(97, 1)\n"
     ]
    },
    {
     "data": {
      "text/plain": [
       "numpy.ndarray"
      ]
     },
     "execution_count": 9,
     "metadata": {},
     "output_type": "execute_result"
    }
   ],
   "source": [
    "# Check that the arrays are the correct shape\n",
    "print(x_pop_2.shape) #Just testing shape of matrices\n",
    "print(y_prof.shape)\n",
    "type(x_pop_2)"
   ]
  },
  {
   "cell_type": "code",
   "execution_count": null,
   "metadata": {},
   "outputs": [],
   "source": []
  },
  {
   "cell_type": "code",
   "execution_count": null,
   "metadata": {},
   "outputs": [],
   "source": []
  },
  {
   "cell_type": "markdown",
   "metadata": {},
   "source": [
    "## Question 3 - Cost Function\n",
    "\n",
    "Create a python function that reads in the vectors x and y, some parameter values theta, and the number of samples. It should return the value of the mean squared error cost function.\n",
    "\n",
    "Test your code using our data a initial guess theta=[0,0]\n",
    "\n",
    "NOTE: You should get The cost function value: 32.072733877455676\n"
   ]
  },
  {
   "cell_type": "code",
   "execution_count": 10,
   "metadata": {},
   "outputs": [],
   "source": [
    "# Compute_Cost function here\n",
    "# X = x_pop_2 and Y = y\n",
    "\n",
    "def Cost_Function(X,Y,theta): #CostFunction = ((x*theta - y).T * (x*theta - y)) / 2*m[0] where m is the size of (x*theta - y)\n",
    "    \n",
    "    Cost_Component = np.subtract(np.matmul(X, theta), Y) #Sets (x*theta - y)\n",
    "\n",
    "    m = Cost_Component.shape #Creates m\n",
    "\n",
    "    Cost_Without_m = np.matmul(Cost_Component.T, Cost_Component) #Sets (x*theta - y).T * (x*theta - y)\n",
    "\n",
    "    Total_Cost = Cost_Without_m / (2*m[0]) #Whole equation\n",
    "        \n",
    "    return Total_Cost #Return J"
   ]
  },
  {
   "cell_type": "code",
   "execution_count": 11,
   "metadata": {
    "scrolled": true
   },
   "outputs": [
    {
     "data": {
      "text/plain": [
       "array([[32.07273388]])"
      ]
     },
     "execution_count": 11,
     "metadata": {},
     "output_type": "execute_result"
    }
   ],
   "source": [
    "# Test your cost function here\n",
    "theta = np.zeros((2,1)) #Create a row of 2 zeros\n",
    "\n",
    "Cost_Function(x_pop_2, y_prof, theta) #Apply this theta to the cost function"
   ]
  },
  {
   "cell_type": "markdown",
   "metadata": {},
   "source": [
    "In the test of your cost function above you assumed that (theta1,theta2) = (0,0). What line does this represent in your scatter plot of the data? Would (theta1,theta2) = (0,0) give a very good prediction?\n",
    "\n"
   ]
  },
  {
   "cell_type": "code",
   "execution_count": 12,
   "metadata": {},
   "outputs": [
    {
     "name": "stdout",
     "output_type": "stream",
     "text": [
      "By theta being [0,0], it does not create the best prediction as we strive for it to equal zero. If the cost function\n",
      "were to be equal to zero (which is incredibly difficult), then it would have a 100% prediction. #32 is a bit high for\n",
      "a \"very good\" prediction.\n"
     ]
    }
   ],
   "source": [
    "print('By theta being [0,0], it does not create the best prediction as we strive for it to equal zero. If the cost function')\n",
    "print('were to be equal to zero (which is incredibly difficult), then it would have a 100% prediction. #32 is a bit high for')\n",
    "print('a \"very good\" prediction.')"
   ]
  },
  {
   "cell_type": "code",
   "execution_count": 13,
   "metadata": {},
   "outputs": [
    {
     "name": "stdout",
     "output_type": "stream",
     "text": [
      "Object `ax.plot_surface` not found.\n"
     ]
    }
   ],
   "source": [
    "ax.plot_surface?"
   ]
  },
  {
   "cell_type": "markdown",
   "metadata": {},
   "source": [
    "## Question 4 - Plot the Cost Function\n",
    "\n",
    "Here are some hints:\n",
    "\n",
    "- create two np.arrays that contain a range of theta values\n",
    "-- theta1 = [-10,10] with about 50 data points\n",
    "-- theta2 = [-1, 4] with about 50 data points\n",
    "\n",
    "- run these arrays through your python cost function to generate J values\n",
    "\n",
    "- now you have (theta1,theta2,J) points. Use these points in plot_surface to get a nice looking curve."
   ]
  },
  {
   "cell_type": "code",
   "execution_count": 14,
   "metadata": {},
   "outputs": [
    {
     "name": "stdout",
     "output_type": "stream",
     "text": [
      "(100,)\n",
      "(100,)\n"
     ]
    }
   ],
   "source": [
    "# Code to generate J values\n",
    "# HINT: use np.arange\n",
    "theta1 = np.arange(-10,10,0.2) #Creates an array of 50 values between -10 and 10\n",
    "print(theta1.shape)\n",
    "\n",
    "theta2 = np.arange(-1,4,0.05) #Creates an array of 50 values between -1 and 4\n",
    "print(theta2.shape)\n",
    "\n",
    "J = np.zeros((100,100)) #Creates a 100x100 matrix of zeros\n",
    "\n",
    "for i in range(100):\n",
    "    for j in range(100):\n",
    "        theta[0,0] = theta1[i] #Sets multiple arrays of theta, where theta = [theta1, theta2]\n",
    "        theta[1,0] = theta2[j]\n",
    "        \n",
    "        J[i,j] = Cost_Function(x_pop_2, y_prof, theta) #applies each [theta1, theta2] to the cost function"
   ]
  },
  {
   "cell_type": "code",
   "execution_count": 15,
   "metadata": {
    "scrolled": true
   },
   "outputs": [
    {
     "name": "stdout",
     "output_type": "stream",
     "text": [
      "328.0929055495072\n",
      "-10.0 -1.0\n"
     ]
    }
   ],
   "source": [
    "new1 = 0\n",
    "new2 = 0\n",
    "print(J[new1,new2])\n",
    "print(theta1[new1], theta2[new2])"
   ]
  },
  {
   "cell_type": "code",
   "execution_count": 16,
   "metadata": {},
   "outputs": [
    {
     "data": {
      "image/png": "[encoded data removed]",
      "text/plain": [
       "<Figure size 576x576 with 1 Axes>"
      ]
     },
     "metadata": {
      "needs_background": "light"
     },
     "output_type": "display_data"
    }
   ],
   "source": [
    "# Code to create a surface plot\n",
    "from mpl_toolkits import mplot3d\n",
    "\n",
    "# Plot theta0, theta1, cost\n",
    "fig = plt.figure(figsize=(8, 8))\n",
    "ax = fig.add_subplot(1, 1, 1, projection=\"3d\")\n",
    "\n",
    "theta0vals, theta1vals = np.meshgrid(theta1, theta2)  # make the grid\n",
    "\n",
    "p = ax.plot_surface(theta0vals, theta1vals, J, cmap='viridis', edgecolor='none')\n",
    "\n",
    "ax.set_xlabel('theta0')\n",
    "ax.set_ylabel('theta1')\n",
    "ax.set_zlabel('Cost Function')\n",
    "plt.title(\"Cost Function vs Theta Values\")\n",
    "\n",
    "plt.savefig('plot3.png', format='png')  # save file as plot3.png\n",
    "plt.show()"
   ]
  },
  {
   "cell_type": "markdown",
   "metadata": {},
   "source": [
    "Does the surface plot appear to have a clear global minimum?"
   ]
  },
  {
   "cell_type": "code",
   "execution_count": 17,
   "metadata": {},
   "outputs": [
    {
     "name": "stdout",
     "output_type": "stream",
     "text": [
      "Yes, the minimum looks like it is in the center of axiss theta 0 and theta 1 as there is a giant dip\n"
     ]
    }
   ],
   "source": [
    "print('Yes, the minimum looks like it is in the center of axiss theta 0 and theta 1 as there is a giant dip')"
   ]
  },
  {
   "cell_type": "code",
   "execution_count": 18,
   "metadata": {},
   "outputs": [
    {
     "name": "stdout",
     "output_type": "stream",
     "text": [
      "328.0929055495072\n"
     ]
    }
   ],
   "source": [
    "print(J[0,0])"
   ]
  },
  {
   "cell_type": "markdown",
   "metadata": {},
   "source": [
    "## Question 5 - The Normal Equation\n",
    "\n",
    "Use the Normal Equation developed in class to minimize the cost function. This should result in a theta1 and theta2 that can generate the line of best fit."
   ]
  },
  {
   "cell_type": "code",
   "execution_count": 19,
   "metadata": {},
   "outputs": [
    {
     "name": "stdout",
     "output_type": "stream",
     "text": [
      "(2, 2)\n",
      "(2, 1)\n",
      "[[-3.89578088]\n",
      " [ 1.19303364]]\n"
     ]
    }
   ],
   "source": [
    "# Normal Equation Calculation = (x.T * x)^-1 * x.T * y\n",
    "tmp1 = np.linalg.inv(np.matmul(x_pop_2.T,x_pop_2)) #(x.T * x)^-1\n",
    "print(tmp1.shape)\n",
    "\n",
    "tmp2 = np.matmul(x_pop_2.T,y_prof) #x.T * y\n",
    "print(tmp2.shape)\n",
    "\n",
    "thetaFit = np.matmul(tmp1,tmp2) #(x.T * x)^-1 * x.T * y\n",
    "print(thetaFit)"
   ]
  },
  {
   "cell_type": "code",
   "execution_count": null,
   "metadata": {},
   "outputs": [],
   "source": []
  },
  {
   "cell_type": "code",
   "execution_count": null,
   "metadata": {},
   "outputs": [],
   "source": []
  },
  {
   "cell_type": "markdown",
   "metadata": {},
   "source": [
    "## Question 6 - Create a Plot of the Data and the Linear Regression Line\n",
    "\n",
    "Make a plot that shows the original scatter plot data, with nice lables, and then overlays the liner function that best fits the data."
   ]
  },
  {
   "cell_type": "code",
   "execution_count": 20,
   "metadata": {},
   "outputs": [
    {
     "data": {
      "image/png": "[encoded data removed]",
      "text/plain": [
       "<Figure size 432x288 with 1 Axes>"
      ]
     },
     "metadata": {
      "needs_background": "light"
     },
     "output_type": "display_data"
    }
   ],
   "source": [
    "# Make plot\n",
    "plt.plot(x, y, 'o')\n",
    "plt.title('Population vs.Profit: It is time for a DEATH BATTLE!!!')\n",
    "# Create the array of x-points for the line\n",
    "numvals = 10\n",
    "xpoints = np.array([np.linspace(4,25,numvals)]).T\n",
    "\n",
    "\n",
    "# Create the array of y-points - using my linear fit (theta) values\n",
    "# Delete the old vector of ones and create a new one\n",
    "ones_galore = np.ones_like(xpoints).reshape(-1,1)\n",
    "\n",
    "# Create the X matrix\n",
    "Xpoints = np.hstack((ones_galore,xpoints))\n",
    "\n",
    "# Then my y vales are just X times theta\n",
    "ypoints = np.matmul(Xpoints,thetaFit)\n",
    "\n",
    "# Plot the new data\n",
    "plt.plot(xpoints,ypoints,'-')\n",
    "\n",
    "### NOTE - the above could also be done with a for loop pluging in x values into y = theta[0]+theta[1]x\n",
    "\n",
    "plt.show()\n"
   ]
  },
  {
   "cell_type": "markdown",
   "metadata": {},
   "source": [
    "How did you do? Does the line seem to match the data well?"
   ]
  },
  {
   "cell_type": "code",
   "execution_count": 21,
   "metadata": {},
   "outputs": [
    {
     "name": "stdout",
     "output_type": "stream",
     "text": [
      "Definetly fits thet best it can be as it passes through the bulk of the points\n"
     ]
    }
   ],
   "source": [
    "print('Definetly fits thet best it can be as it passes through the bulk of the points')"
   ]
  },
  {
   "cell_type": "code",
   "execution_count": null,
   "metadata": {},
   "outputs": [],
   "source": []
  },
  {
   "cell_type": "markdown",
   "metadata": {},
   "source": [
    "## Question 7 - Use your ML Algorithm to Make Predictions\n",
    "\n",
    "Now write a function that takes as an input the (theta1, theta2) values and the Popation and outputs a prediction for what the profit will be.\n",
    "\n",
    "Test your code for the following values:\n",
    "\n",
    "Population = 3.5\n",
    "\n",
    "Population = 7"
   ]
  },
  {
   "cell_type": "code",
   "execution_count": 22,
   "metadata": {},
   "outputs": [],
   "source": [
    "# Function that takes population as an input and predicts profit\n",
    "def Predict_Y(x):\n",
    "    \n",
    "    X = np.array([1,x])\n",
    "    \n",
    "    y = np.matmul(X,theta)\n",
    "    \n",
    "    return y"
   ]
  },
  {
   "cell_type": "code",
   "execution_count": 23,
   "metadata": {
    "scrolled": true
   },
   "outputs": [
    {
     "data": {
      "text/plain": [
       "array([23.625])"
      ]
     },
     "execution_count": 23,
     "metadata": {},
     "output_type": "execute_result"
    }
   ],
   "source": [
    "# Test the function\n",
    "Predict_Y(3.5)"
   ]
  },
  {
   "cell_type": "code",
   "execution_count": 24,
   "metadata": {},
   "outputs": [
    {
     "data": {
      "text/plain": [
       "array([37.45])"
      ]
     },
     "execution_count": 24,
     "metadata": {},
     "output_type": "execute_result"
    }
   ],
   "source": [
    "Predict_Y(7)"
   ]
  }
 ],
 "metadata": {
  "anaconda-cloud": {},
  "coursera": {
   "course_slug": "python-data-analysis",
   "graded_item_id": "tHmgx",
   "launcher_item_id": "Um6Bz",
   "part_id": "OQsnr"
  },
  "kernelspec": {
   "display_name": "Python 3",
   "language": "python",
   "name": "python3"
  },
  "language_info": {
   "codemirror_mode": {
    "name": "ipython",
    "version": 3
   },
   "file_extension": ".py",
   "mimetype": "text/x-python",
   "name": "python",
   "nbconvert_exporter": "python",
   "pygments_lexer": "ipython3",
   "version": "3.7.4"
  },
  "umich": {
   "id": "Assignment 2",
   "version": "1.2"
  }
 },
 "nbformat": 4,
 "nbformat_minor": 1
}
