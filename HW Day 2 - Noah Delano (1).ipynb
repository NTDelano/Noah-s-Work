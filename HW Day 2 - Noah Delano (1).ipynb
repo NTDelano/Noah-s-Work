{
 "cells": [
  {
   "cell_type": "markdown",
   "metadata": {},
   "source": [
    "<H1>Assignment 1 - Python and Jupyter Introduction</H1>\n",
    "\n",
    "There are 10 questions in this assignment and all questions are weighted the same."
   ]
  },
  {
   "cell_type": "markdown",
   "metadata": {},
   "source": [
    "<H4>Question 0: Example</H4>\n",
    "\n",
    "This is a sample question and solution. (There is no need for you to do anything here except read.)\n",
    "\n",
    "Task: Create a list of multiples of 5 from 0 to 100 using two different methods: a for loop with append and a list comprehension statement."
   ]
  },
  {
   "cell_type": "code",
   "execution_count": 1,
   "metadata": {},
   "outputs": [],
   "source": [
    "##Sample Question Cell\n",
    "\n",
    "#mult5=[]\n",
    "## Add elements to this list to get all multiples of 5 from 0 to 100 \n",
    "## using a for loop and append statements.\n",
    "#???\n",
    "\n",
    "## Use list comprehension to create the same list. \n",
    "#mult_5= ???\n",
    "\n",
    "#mult5==mult_5"
   ]
  },
  {
   "cell_type": "code",
   "execution_count": 2,
   "metadata": {},
   "outputs": [
    {
     "name": "stdout",
     "output_type": "stream",
     "text": [
      "[0, 5, 10, 15, 20, 25, 30, 35, 40, 45, 50, 55, 60, 65, 70, 75, 80, 85, 90, 95, 100]\n",
      "[0, 5, 10, 15, 20, 25, 30, 35, 40, 45, 50, 55, 60, 65, 70, 75, 80, 85, 90, 95, 100]\n"
     ]
    },
    {
     "data": {
      "text/plain": [
       "True"
      ]
     },
     "execution_count": 2,
     "metadata": {},
     "output_type": "execute_result"
    }
   ],
   "source": [
    "##Sample Answer Cell\n",
    "\n",
    "mult5=[]\n",
    "## Add elements to this list to get all multiples of 5 from 0 to 100 \n",
    "## using a for loop and append statements.\n",
    "for i in range(21):\n",
    "    mult5.append(5*i)\n",
    "print(mult5)\n",
    "\n",
    "## Use list comprehension to create the same list. \n",
    "mult_5= [5*i for i in range(21)]\n",
    "print(mult_5)\n",
    "\n",
    "mult5==mult_5"
   ]
  },
  {
   "cell_type": "markdown",
   "metadata": {},
   "source": [
    "<H4>Question 1: Python Functions</H4>\n",
    "    \n",
    "Task: Write a Python function that will read in two strings and return a string which concatenates the two strings with a space in between."
   ]
  },
  {
   "cell_type": "code",
   "execution_count": 3,
   "metadata": {},
   "outputs": [
    {
     "data": {
      "text/plain": [
       "'To Be'"
      ]
     },
     "execution_count": 3,
     "metadata": {},
     "output_type": "execute_result"
    }
   ],
   "source": [
    "## Write your function here.\n",
    "def function_one(x,y):\n",
    "        \n",
    "    return x+\" \"+y\n",
    "\n",
    "str1=\"To\"\n",
    "str2=\"Be\"\n",
    "\n",
    "function_one(str1,str2)"
   ]
  },
  {
   "cell_type": "markdown",
   "metadata": {},
   "source": [
    "<H4>Question 2: Modification</H4>\n",
    "    \n",
    "Task: Adapt the previous function to allow for two or three strings."
   ]
  },
  {
   "cell_type": "code",
   "execution_count": 4,
   "metadata": {},
   "outputs": [
    {
     "data": {
      "text/plain": [
       "'Yellow Red Blue'"
      ]
     },
     "execution_count": 4,
     "metadata": {},
     "output_type": "execute_result"
    }
   ],
   "source": [
    "## Write your function here.\n",
    "def function_two(x,y,z):\n",
    "    \n",
    "    return x+\" \"+y+\" \"+z\n",
    "\n",
    "str1 = \"Yellow\"\n",
    "str2 = \"Red\"\n",
    "str3 = \"Blue\"\n",
    "\n",
    "function_two(str1,str2,str3)"
   ]
  },
  {
   "cell_type": "markdown",
   "metadata": {},
   "source": [
    "<H4>Question 3: Functions and Lists.</H4>\n",
    "\n",
    "Write a function to create a list of <it>n</it> Fibonacci numbers where n is an input to the function. \n",
    "\n",
    "The Fibonacci seqence is a sequence of numbers where the next number in the sequence is the sum of the previous two numbers in the sequence.  1, 1, 2, 3, 5, 8, 13, ..."
   ]
  },
  {
   "cell_type": "code",
   "execution_count": 5,
   "metadata": {},
   "outputs": [
    {
     "data": {
      "text/plain": [
       "[0, 1, 1, 2, 3, 5, 8, 13, 21, 34, 55, 89, 144, 233, 377]"
      ]
     },
     "execution_count": 5,
     "metadata": {},
     "output_type": "execute_result"
    }
   ],
   "source": [
    "## Write your function here.\n",
    "def function_three(n):\n",
    "    \n",
    "    n1 = 0\n",
    "    n2 = 1\n",
    "    newList = []\n",
    "    for i in range(n):\n",
    "        if (n<1):\n",
    "            return 0\n",
    "        elif (n==2):\n",
    "            return 1\n",
    "        else:\n",
    "            newList.append(n1)\n",
    "            \n",
    "            current = n1 + n2\n",
    "            n1 = n2\n",
    "            n2 = current\n",
    "            \n",
    "            i+=1\n",
    "            \n",
    "     \n",
    "    return newList\n",
    "\n",
    "function_three(15)\n",
    "\n"
   ]
  },
  {
   "cell_type": "markdown",
   "metadata": {},
   "source": [
    "<H4>Question 4: Lists</H4>\n",
    "\n",
    "Tasks:\n",
    "<ol>\n",
    "    <li> Create a new list which contains all the numbers in old_list which are congruent to 0 mod 3 using a list comprehension.\n",
    "    </li>\n",
    "<li> \n",
    "Use appropriate slicing to print the last three numbers of the original list.\n",
    "  </li>\n",
    "<li>\n",
    "Use appropriate slicing to print the middle five numbers of the original list. \n",
    "    </li>\n",
    "<li>\n",
    "Print all the numbers from old_list in reverse order.\n",
    "    </li>\n",
    "    </ol>\n"
   ]
  },
  {
   "cell_type": "code",
   "execution_count": 6,
   "metadata": {},
   "outputs": [
    {
     "name": "stdout",
     "output_type": "stream",
     "text": [
      "[9, 18, 42, 45]\n",
      "[98, 45, 29]\n",
      "[18, 22, 2, 31, 42]\n",
      "[29, 45, 98, 42, 31, 2, 22, 18, 4, 9, 5]\n"
     ]
    }
   ],
   "source": [
    "## The starting list.\n",
    "old_list = [5,9,4,18,22,2,31,42,98,45,29]\n",
    "\n",
    "## create new list here of numbers in old_list which are congruent to 0 mod 3\n",
    "new_list=[]\n",
    "new_list = [number for number in old_list if number%3==0]\n",
    "print(new_list)\n",
    "\n",
    "## print last three\n",
    "print(old_list[len(old_list)-3:len(old_list)])\n",
    "\n",
    "## print middle five\n",
    "print(old_list[3:len(old_list)-3])\n",
    "\n",
    "## print in reverse order\n",
    "print(old_list[::-1])"
   ]
  },
  {
   "cell_type": "markdown",
   "metadata": {},
   "source": [
    "<H4>Question 5: Dictionaries</H4>\n",
    "    \n",
    "Tasks: \n",
    "<ol>\n",
    "<li>Create a birthday dictionary with 5 people and their birthdays. Enter names and dates as strings. Neither the people nor the birthdays need to be real. \n",
    "    </li><li>\n",
    "Add a sixth person and their birthday to the dictionary.\n",
    "        </li><li> \n",
    "Print all names in the dictionary.\n",
    "   </li><li>\n",
    "Print all birthdays from the dictionary.\n",
    "    </li>\n",
    "  </ol>"
   ]
  },
  {
   "cell_type": "code",
   "execution_count": 7,
   "metadata": {},
   "outputs": [
    {
     "name": "stdout",
     "output_type": "stream",
     "text": [
      "{'Noah': 'December 13', 'Trinity': 'May 9', 'Peggy': 'October 7', 'Kayle': 'January 1', 'Samantha': 'July 26'}\n",
      "{'Noah': 'December 13', 'Trinity': 'May 9', 'Peggy': 'October 7', 'Kayle': 'January 1', 'Samantha': 'July 26', 'Phil': 'March 15'}\n",
      "dict_keys(['Noah', 'Trinity', 'Peggy', 'Kayle', 'Samantha', 'Phil'])\n",
      "dict_values(['December 13', 'May 9', 'October 7', 'January 1', 'July 26', 'March 15'])\n"
     ]
    }
   ],
   "source": [
    "## Create a dictionary with 5 names.\n",
    "birthday={'Noah':\"December 13\", 'Trinity':\"May 9\", 'Peggy':\"October 7\", 'Kayle':\"January 1\", 'Samantha':\"July 26\"}\n",
    "print(birthday)\n",
    "\n",
    "## Add a 6th name to the dictionary.\n",
    "birthday['Phil'] =\"March 15\"\n",
    "print(birthday)\n",
    "\n",
    "## Print all names in the dictionary.\n",
    "print(birthday.keys())\n",
    "\n",
    "## Print all birthdays in the dictionary.\n",
    "print(birthday.values())"
   ]
  },
  {
   "cell_type": "markdown",
   "metadata": {},
   "source": [
    "<H4>Question 6: Lambdas and Maps</H4>\n",
    "\n",
    "Task: Write a lambda function to double each entry in the list of numbers. Note: the rest of the code will apply this as a map function."
   ]
  },
  {
   "cell_type": "code",
   "execution_count": 8,
   "metadata": {},
   "outputs": [
    {
     "name": "stdout",
     "output_type": "stream",
     "text": [
      "[2, 18, 6, 4]\n"
     ]
    }
   ],
   "source": [
    "numbers = [1, 9, 3, 2] \n",
    "result = map(lambda x: 2*x, numbers) \n",
    "print(list(result)) "
   ]
  },
  {
   "cell_type": "markdown",
   "metadata": {},
   "source": [
    "<H4>Question 7: String Map</H4>\n",
    "    \n",
    "Task: for the given list1, use the map function to create a list of strings instead of integers with the given value. That is, you should end up with ['10','9',...]."
   ]
  },
  {
   "cell_type": "code",
   "execution_count": 9,
   "metadata": {},
   "outputs": [
    {
     "name": "stdout",
     "output_type": "stream",
     "text": [
      "['10', '9', '5', '7', '3']\n"
     ]
    }
   ],
   "source": [
    "list1 = [10, 9, 5, 7, 3]\n",
    "print(list(map(str,list1)))"
   ]
  },
  {
   "cell_type": "markdown",
   "metadata": {},
   "source": [
    "<H4>Question 8: More Maps</H4>\n",
    "\n",
    "Tasks: \n",
    "<ol>\n",
    "    <li> Write a function to input a string of two names, first and last, and output just the first name.\n",
    "    </li><li>\n",
    "    Use the map function to apply your function to the list [names] below.\n",
    "    </li>\n",
    "    </ol>"
   ]
  },
  {
   "cell_type": "code",
   "execution_count": 10,
   "metadata": {},
   "outputs": [
    {
     "name": "stdout",
     "output_type": "stream",
     "text": [
      "['Max', 'Michael', 'Sam', 'Noah', 'Joseph', 'Anooj', 'John', 'Kimberly', 'Sam', 'Tyler', 'Jonathon', 'Rafael', 'Joanna', 'Tamara', 'Bongo', 'Bella', 'Kika']\n"
     ]
    }
   ],
   "source": [
    "names=['Max Auerbach','Michael Brookstein','Sam Cribbs', \"Noah Delano\", \"Joseph Macias\", 'Anooj Patel', 'John Pease', 'Kimberly Sheldon', 'Sam Silva', 'Tyler Wise', 'Jonathon Zacarias', \"Rafael Zasas\", \"Joanna Bieri\", \"Tamara Veenstra\", \"Bongo the Cat\", \"Bella the Cat\",\"Kika the Cat\"]\n",
    "\n",
    "##Write your function here to input multiple names and return just the first name.\n",
    "def your_function(person):\n",
    "    firstName = person.split()[0]\n",
    "    lastName = person.split()[-1]\n",
    "    \n",
    "    return '{}'.format(firstName)\n",
    "    \n",
    "##Use map to apply your_function to produce a list of all the first names in the list names.\n",
    "print(list(map(your_function, names)))"
   ]
  },
  {
   "cell_type": "markdown",
   "metadata": {},
   "source": [
    "<H4>Question 9: Even more maps</H4>\n",
    "\n",
    "Task: Use the map function to produce a list which contains the sums of the entries of the two lists below. That is, you should get the list [3+5,4+7,5+11,6+13].\n",
    "You may use either a lambda or a formal function."
   ]
  },
  {
   "cell_type": "code",
   "execution_count": 11,
   "metadata": {},
   "outputs": [
    {
     "name": "stdout",
     "output_type": "stream",
     "text": [
      "[8, 11, 16, 19]\n"
     ]
    }
   ],
   "source": [
    "num1=[3,4,5,6]\n",
    "num2=[5,7,11,13]\n",
    "## Enter your code here \n",
    "\n",
    "numSum = list(map(lambda x,y: x+y,num1,num2))\n",
    "print(numSum)\n"
   ]
  },
  {
   "cell_type": "markdown",
   "metadata": {},
   "source": [
    "<H4>Question 10: The Format Command</H4>\n",
    "    \n",
    "Tasks: Use the format command to process the following information in both examples below."
   ]
  },
  {
   "cell_type": "code",
   "execution_count": 12,
   "metadata": {},
   "outputs": [
    {
     "name": "stdout",
     "output_type": "stream",
     "text": [
      "The first number is 4 and the last number is 42\n",
      "The persons first name is Jean-Luc and the persons last name is Picard.\n",
      "His hometown is La Barre, France.\n"
     ]
    }
   ],
   "source": [
    "## enter the appropriate commands in format so that the printed sentence includes the first and last number in the list data.\n",
    "data = [4, 8, 15, 16, 23, 42]\n",
    "print('The first number is {} and the last number is {}'.format(data[0],data[len(data)-1]))\n",
    "\n",
    "\n",
    "## Use the information in the dictionary person to construct the following sentence. \n",
    "## \"The person's first name is Jean-Luc and the person's last name is Picard. \n",
    "## His hometown is La Barre, France.\" The phrases \n",
    "##  'Jean-Luc', 'Picard', 'La Barre, France' should be accessed from the dictionary.\n",
    "\n",
    "person = {'first': 'Jean-Luc', 'last': 'Picard', 'hometown': 'La Barre, France' }\n",
    "print('The persons first name is {} and the persons last name is {}.'.format(person['first'], person['last']))\n",
    "print('His hometown is {}.'.format(person['hometown']))"
   ]
  },
  {
   "cell_type": "code",
   "execution_count": null,
   "metadata": {},
   "outputs": [],
   "source": []
  }
 ],
 "metadata": {
  "kernelspec": {
   "display_name": "Python 3",
   "language": "python",
   "name": "python3"
  },
  "language_info": {
   "codemirror_mode": {
    "name": "ipython",
    "version": 3
   },
   "file_extension": ".py",
   "mimetype": "text/x-python",
   "name": "python",
   "nbconvert_exporter": "python",
   "pygments_lexer": "ipython3",
   "version": "3.7.4"
  }
 },
 "nbformat": 4,
 "nbformat_minor": 2
}
